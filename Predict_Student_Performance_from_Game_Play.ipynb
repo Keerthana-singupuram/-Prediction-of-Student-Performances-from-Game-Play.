{
  "nbformat": 4,
  "nbformat_minor": 0,
  "metadata": {
    "colab": {
      "provenance": [],
      "authorship_tag": "ABX9TyPp8QIqMf0zFZe/MuFgg3YD",
      "include_colab_link": true
    },
    "kernelspec": {
      "name": "python3",
      "display_name": "Python 3"
    },
    "language_info": {
      "name": "python"
    }
  },
  "cells": [
    {
      "cell_type": "markdown",
      "metadata": {
        "id": "view-in-github",
        "colab_type": "text"
      },
      "source": [
        "<a href=\"https://colab.research.google.com/github/Keerthana-singupuram/-Prediction-of-Student-Performances-from-Game-Play./blob/main/Predict_Student_Performance_from_Game_Play.ipynb\" target=\"_parent\"><img src=\"https://colab.research.google.com/assets/colab-badge.svg\" alt=\"Open In Colab\"/></a>"
      ]
    },
    {
      "cell_type": "markdown",
      "source": [
        "# **Prediction of Student Performances from Game Play.**\n",
        "\n",
        "### The objective aims to predict the performance of students while playing an educational game. The data available to train a model is a large game log. We need to predict whether each student answered each question correctly, which involves binary classification for each question in each student session.\n",
        "---\n",
        "\n",
        "\n",
        "\n",
        "**Files:**\n",
        "\n",
        "***train.csv*** - the training set\n",
        "\n",
        "***test.csv*** - the test set\n",
        "\n",
        "***sample_submission.csv*** - a sample submission file in the correct format\n",
        "\n",
        "***train_labels.csv*** - correct value for all 18 questions for each session in the training set.\n",
        "\n",
        "\n",
        "\n",
        "---\n",
        "\n",
        "\n",
        "**Columns:**\n",
        "\n",
        "***session_id*** - the ID of the session the event took place in\n",
        "\n",
        "***index*** - the index of the event for the session\n",
        "\n",
        "***elapsed_time*** - how much time has passed (in milliseconds) between \n",
        "the start of the session and when the event was recorded\n",
        "\n",
        "***event_name*** - the name of the event type\n",
        "\n",
        "***name*** - the event name (e.g. identifies whether a notebook_click is is opening or closing the notebook)\n",
        "\n",
        "***level*** - what level of the game the event occurred in (0 to 22)\n",
        "\n",
        "***page*** - the page number of the event (only for notebook-related events)\n",
        "\n",
        "***room_coor_x*** - the coordinates of the click in reference to the in-game room (only for click events)\n",
        "\n",
        "***room_coor_y*** - the coordinates of the click in reference to the in-game room (only for click events)\n",
        "\n",
        "***screen_coor_x*** - the coordinates of the click in reference to the player’s screen (only for click events)\n",
        "\n",
        "***screen_coor_y*** - the coordinates of the click in reference to the player’s screen (only for click events)\n",
        "\n",
        "***hover_duration*** - how long (in milliseconds) the hover happened for (only for hover events)\n",
        "\n",
        "***text*** - the text the player sees during this event\n",
        "\n",
        "***fqid*** - the fully qualified ID of the event\n",
        "\n",
        "***room_fqid*** - the fully qualified ID of the room the event took place in.\n",
        "\n",
        "***text_fqid*** - the fully qualified ID.\n",
        "\n",
        "***fullscreen*** - whether the player is in fullscreen mode\n",
        "\n",
        "***hq*** - whether the game is in high-quality\n",
        "\n",
        "***music***- whether the game music is on or off\n",
        "\n",
        "***level_group*** - which group of levels - and group of questions - this row belongs to (0-4, 5-12, 13-22)"
      ],
      "metadata": {
        "id": "2P1cGa1HOZV9"
      }
    },
    {
      "cell_type": "markdown",
      "source": [
        "## **Import the libraries :**"
      ],
      "metadata": {
        "id": "-dDMo2zHnSsZ"
      }
    },
    {
      "cell_type": "code",
      "source": [
        "import pandas as pd\n",
        "import numpy as np\n",
        "import matplotlib.pyplot as plt\n",
        "import matplotlib.patches as mpatches\n",
        "import seaborn as sns"
      ],
      "metadata": {
        "id": "utd2pMsLl8hS"
      },
      "execution_count": null,
      "outputs": []
    },
    {
      "cell_type": "markdown",
      "source": [
        "## **Load the data :**"
      ],
      "metadata": {
        "id": "D4cdR-rhnJoh"
      }
    },
    {
      "cell_type": "code",
      "source": [
        "train_df = pd.read_csv('/content/Train set.csv')\n",
        "test_df = pd.read_csv('/content/test.csv')\n",
        "labels_df = pd.read_csv('/content/train_labels.csv')\n",
        "submission_df = pd.read_csv('/content/sample_submission.csv')"
      ],
      "metadata": {
        "id": "AOSiadeCmEyh"
      },
      "execution_count": null,
      "outputs": []
    },
    {
      "cell_type": "markdown",
      "source": [
        "## **Basic Investigation :**"
      ],
      "metadata": {
        "id": "KXtCCGdAnDwS"
      }
    },
    {
      "cell_type": "code",
      "source": [
        "print(\"Train: rows\", len(train_df), \"| columns\", len(train_df.columns))\n",
        "print(\"Test: rows\", len(test_df), \"| columns\", len(test_df.columns))\n",
        "\n",
        "train_df.head(2)"
      ],
      "metadata": {
        "colab": {
          "base_uri": "https://localhost:8080/",
          "height": 282
        },
        "id": "c7TsZoZOmTbe",
        "outputId": "5cf0a5e0-cecb-4fc4-ab04-99688a40fea7"
      },
      "execution_count": null,
      "outputs": [
        {
          "output_type": "stream",
          "name": "stdout",
          "text": [
            "Train: rows 16383 | columns 20\n",
            "Test: rows 3728 | columns 21\n"
          ]
        },
        {
          "output_type": "execute_result",
          "data": {
            "text/plain": [
              "     session_id  index  elapsed_time      event_name   name  level  page  \\\n",
              "0  2.009030e+16      0             0  cutscene_click  basic      0   NaN   \n",
              "1  2.009030e+16      1          1323    person_click  basic      0   NaN   \n",
              "\n",
              "   room_coor_x  room_coor_y  screen_coor_x  screen_coor_y  hover_duration  \\\n",
              "0  -413.991405  -159.314686          380.0          494.0             NaN   \n",
              "1  -413.991405  -159.314686          380.0          494.0             NaN   \n",
              "\n",
              "                            text    fqid                       room_fqid  \\\n",
              "0                      undefined   intro  tunic.historicalsociety.closet   \n",
              "1  Whatcha doing over there, Jo?  gramps  tunic.historicalsociety.closet   \n",
              "\n",
              "                                           text_fqid  fullscreen  hq  music  \\\n",
              "0               tunic.historicalsociety.closet.intro           0   0      1   \n",
              "1  tunic.historicalsociety.closet.gramps.intro_0_...           0   0      1   \n",
              "\n",
              "  level_group  \n",
              "0         0-4  \n",
              "1         0-4  "
            ],
            "text/html": [
              "\n",
              "  <div id=\"df-f5f69cc2-eefb-4020-a10f-3d0850af5170\">\n",
              "    <div class=\"colab-df-container\">\n",
              "      <div>\n",
              "<style scoped>\n",
              "    .dataframe tbody tr th:only-of-type {\n",
              "        vertical-align: middle;\n",
              "    }\n",
              "\n",
              "    .dataframe tbody tr th {\n",
              "        vertical-align: top;\n",
              "    }\n",
              "\n",
              "    .dataframe thead th {\n",
              "        text-align: right;\n",
              "    }\n",
              "</style>\n",
              "<table border=\"1\" class=\"dataframe\">\n",
              "  <thead>\n",
              "    <tr style=\"text-align: right;\">\n",
              "      <th></th>\n",
              "      <th>session_id</th>\n",
              "      <th>index</th>\n",
              "      <th>elapsed_time</th>\n",
              "      <th>event_name</th>\n",
              "      <th>name</th>\n",
              "      <th>level</th>\n",
              "      <th>page</th>\n",
              "      <th>room_coor_x</th>\n",
              "      <th>room_coor_y</th>\n",
              "      <th>screen_coor_x</th>\n",
              "      <th>screen_coor_y</th>\n",
              "      <th>hover_duration</th>\n",
              "      <th>text</th>\n",
              "      <th>fqid</th>\n",
              "      <th>room_fqid</th>\n",
              "      <th>text_fqid</th>\n",
              "      <th>fullscreen</th>\n",
              "      <th>hq</th>\n",
              "      <th>music</th>\n",
              "      <th>level_group</th>\n",
              "    </tr>\n",
              "  </thead>\n",
              "  <tbody>\n",
              "    <tr>\n",
              "      <th>0</th>\n",
              "      <td>2.009030e+16</td>\n",
              "      <td>0</td>\n",
              "      <td>0</td>\n",
              "      <td>cutscene_click</td>\n",
              "      <td>basic</td>\n",
              "      <td>0</td>\n",
              "      <td>NaN</td>\n",
              "      <td>-413.991405</td>\n",
              "      <td>-159.314686</td>\n",
              "      <td>380.0</td>\n",
              "      <td>494.0</td>\n",
              "      <td>NaN</td>\n",
              "      <td>undefined</td>\n",
              "      <td>intro</td>\n",
              "      <td>tunic.historicalsociety.closet</td>\n",
              "      <td>tunic.historicalsociety.closet.intro</td>\n",
              "      <td>0</td>\n",
              "      <td>0</td>\n",
              "      <td>1</td>\n",
              "      <td>0-4</td>\n",
              "    </tr>\n",
              "    <tr>\n",
              "      <th>1</th>\n",
              "      <td>2.009030e+16</td>\n",
              "      <td>1</td>\n",
              "      <td>1323</td>\n",
              "      <td>person_click</td>\n",
              "      <td>basic</td>\n",
              "      <td>0</td>\n",
              "      <td>NaN</td>\n",
              "      <td>-413.991405</td>\n",
              "      <td>-159.314686</td>\n",
              "      <td>380.0</td>\n",
              "      <td>494.0</td>\n",
              "      <td>NaN</td>\n",
              "      <td>Whatcha doing over there, Jo?</td>\n",
              "      <td>gramps</td>\n",
              "      <td>tunic.historicalsociety.closet</td>\n",
              "      <td>tunic.historicalsociety.closet.gramps.intro_0_...</td>\n",
              "      <td>0</td>\n",
              "      <td>0</td>\n",
              "      <td>1</td>\n",
              "      <td>0-4</td>\n",
              "    </tr>\n",
              "  </tbody>\n",
              "</table>\n",
              "</div>\n",
              "      <button class=\"colab-df-convert\" onclick=\"convertToInteractive('df-f5f69cc2-eefb-4020-a10f-3d0850af5170')\"\n",
              "              title=\"Convert this dataframe to an interactive table.\"\n",
              "              style=\"display:none;\">\n",
              "        \n",
              "  <svg xmlns=\"http://www.w3.org/2000/svg\" height=\"24px\"viewBox=\"0 0 24 24\"\n",
              "       width=\"24px\">\n",
              "    <path d=\"M0 0h24v24H0V0z\" fill=\"none\"/>\n",
              "    <path d=\"M18.56 5.44l.94 2.06.94-2.06 2.06-.94-2.06-.94-.94-2.06-.94 2.06-2.06.94zm-11 1L8.5 8.5l.94-2.06 2.06-.94-2.06-.94L8.5 2.5l-.94 2.06-2.06.94zm10 10l.94 2.06.94-2.06 2.06-.94-2.06-.94-.94-2.06-.94 2.06-2.06.94z\"/><path d=\"M17.41 7.96l-1.37-1.37c-.4-.4-.92-.59-1.43-.59-.52 0-1.04.2-1.43.59L10.3 9.45l-7.72 7.72c-.78.78-.78 2.05 0 2.83L4 21.41c.39.39.9.59 1.41.59.51 0 1.02-.2 1.41-.59l7.78-7.78 2.81-2.81c.8-.78.8-2.07 0-2.86zM5.41 20L4 18.59l7.72-7.72 1.47 1.35L5.41 20z\"/>\n",
              "  </svg>\n",
              "      </button>\n",
              "      \n",
              "  <style>\n",
              "    .colab-df-container {\n",
              "      display:flex;\n",
              "      flex-wrap:wrap;\n",
              "      gap: 12px;\n",
              "    }\n",
              "\n",
              "    .colab-df-convert {\n",
              "      background-color: #E8F0FE;\n",
              "      border: none;\n",
              "      border-radius: 50%;\n",
              "      cursor: pointer;\n",
              "      display: none;\n",
              "      fill: #1967D2;\n",
              "      height: 32px;\n",
              "      padding: 0 0 0 0;\n",
              "      width: 32px;\n",
              "    }\n",
              "\n",
              "    .colab-df-convert:hover {\n",
              "      background-color: #E2EBFA;\n",
              "      box-shadow: 0px 1px 2px rgba(60, 64, 67, 0.3), 0px 1px 3px 1px rgba(60, 64, 67, 0.15);\n",
              "      fill: #174EA6;\n",
              "    }\n",
              "\n",
              "    [theme=dark] .colab-df-convert {\n",
              "      background-color: #3B4455;\n",
              "      fill: #D2E3FC;\n",
              "    }\n",
              "\n",
              "    [theme=dark] .colab-df-convert:hover {\n",
              "      background-color: #434B5C;\n",
              "      box-shadow: 0px 1px 3px 1px rgba(0, 0, 0, 0.15);\n",
              "      filter: drop-shadow(0px 1px 2px rgba(0, 0, 0, 0.3));\n",
              "      fill: #FFFFFF;\n",
              "    }\n",
              "  </style>\n",
              "\n",
              "      <script>\n",
              "        const buttonEl =\n",
              "          document.querySelector('#df-f5f69cc2-eefb-4020-a10f-3d0850af5170 button.colab-df-convert');\n",
              "        buttonEl.style.display =\n",
              "          google.colab.kernel.accessAllowed ? 'block' : 'none';\n",
              "\n",
              "        async function convertToInteractive(key) {\n",
              "          const element = document.querySelector('#df-f5f69cc2-eefb-4020-a10f-3d0850af5170');\n",
              "          const dataTable =\n",
              "            await google.colab.kernel.invokeFunction('convertToInteractive',\n",
              "                                                     [key], {});\n",
              "          if (!dataTable) return;\n",
              "\n",
              "          const docLinkHtml = 'Like what you see? Visit the ' +\n",
              "            '<a target=\"_blank\" href=https://colab.research.google.com/notebooks/data_table.ipynb>data table notebook</a>'\n",
              "            + ' to learn more about interactive tables.';\n",
              "          element.innerHTML = '';\n",
              "          dataTable['output_type'] = 'display_data';\n",
              "          await google.colab.output.renderOutput(dataTable, element);\n",
              "          const docLink = document.createElement('div');\n",
              "          docLink.innerHTML = docLinkHtml;\n",
              "          element.appendChild(docLink);\n",
              "        }\n",
              "      </script>\n",
              "    </div>\n",
              "  </div>\n",
              "  "
            ]
          },
          "metadata": {},
          "execution_count": 44
        }
      ]
    },
    {
      "cell_type": "markdown",
      "source": [
        "## **Missing Values :**"
      ],
      "metadata": {
        "id": "4oElhvw9m1ro"
      }
    },
    {
      "cell_type": "code",
      "source": [
        "train_missing_ratios = train_df.isna().sum() / len(train_df)\n",
        "test_missing_ratios = test_df.isna().sum() / len(test_df)\n",
        "\n",
        "plt.figure(figsize=(10, 4))\n",
        "\n",
        "plt.subplot(1, 2, 1)\n",
        "plt.bar(train_missing_ratios.index,\n",
        "        train_missing_ratios.values,\n",
        "        color=['blue' if ratio == 1 else 'magenta' for ratio in train_missing_ratios.values])\n",
        "plt.xlabel('Feature', fontsize=12)\n",
        "plt.ylabel('Missing values ratio', fontsize=12)\n",
        "plt.title('Missing values in TRAIN SET', fontsize=16)\n",
        "plt.xticks(rotation=90)\n",
        "plt.legend(handles=[mpatches.Patch(color='magenta'),\n",
        "                    mpatches.Patch(color='blue')], \n",
        "           labels=['Partially missing values', 'Completely missing values'])\n",
        "\n",
        "plt.subplot(1, 2, 2)\n",
        "plt.bar(test_missing_ratios.index,\n",
        "        test_missing_ratios.values,\n",
        "        color=['blue' if ratio == 1 else 'magenta' for ratio in test_missing_ratios.values])\n",
        "plt.title('Missing values in TEST SET', fontsize=16)\n",
        "plt.xticks(rotation=90)\n",
        "\n",
        "plt.tight_layout()\n",
        "plt.show()"
      ],
      "metadata": {
        "colab": {
          "base_uri": "https://localhost:8080/",
          "height": 297
        },
        "id": "bUOBKHAvmsHT",
        "outputId": "5c730eb7-7933-4f27-9aa2-2c87c12c263a"
      },
      "execution_count": null,
      "outputs": [
        {
          "output_type": "display_data",
          "data": {
            "text/plain": [
              "<Figure size 720x288 with 2 Axes>"
            ],
            "image/png": "[encoded data removed]"
          },
          "metadata": {
            "needs_background": "light"
          }
        }
      ]
    },
    {
      "cell_type": "markdown",
      "source": [
        "## **Exploratory Data Analysis :**\n"
      ],
      "metadata": {
        "id": "2St7LEOUqPrP"
      }
    },
    {
      "cell_type": "code",
      "source": [
        "print(\"The longest session  of the training set lasted about\",\n",
        "      int(train_df['elapsed_time'].max() / 8.64e7), \"days.\")\n",
        "print(\"The longest session of the testing set lasted about\",\n",
        "      int(test_df['elapsed_time'].max() / 1000), \"sec.\")"
      ],
      "metadata": {
        "colab": {
          "base_uri": "https://localhost:8080/"
        },
        "id": "w2BepRggpnKt",
        "outputId": "a6a8bf54-e22b-446c-e72c-999be2f28185"
      },
      "execution_count": null,
      "outputs": [
        {
          "output_type": "stream",
          "name": "stdout",
          "text": [
            "The longest session  of the training set lasted about 0 days.\n",
            "The longest session of the testing set lasted about 6524 sec.\n"
          ]
        }
      ]
    },
    {
      "cell_type": "code",
      "source": [
        "avg_elapsed_time = train_df.groupby('index')['elapsed_time'].mean() / 1000\n",
        "\n",
        "plt.figure(figsize=(10, 4))\n",
        "plt.plot(avg_elapsed_time)\n",
        "plt.axvline(2825, color='red', ls='--')\n",
        "plt.xlabel(\"Event index\", fontsize=12)\n",
        "plt.ylabel(\"Average elapsed time (sec)\", fontsize=12)\n",
        "plt.xlim([0, 4000])\n",
        "plt.legend(['Average elapsed time', 'Limit before non correlation'])\n",
        "\n",
        "plt.show()"
      ],
      "metadata": {
        "colab": {
          "base_uri": "https://localhost:8080/",
          "height": 286
        },
        "id": "9x-0PyZ5pE2o",
        "outputId": "4e796e78-e347-408a-f007-711328060c94"
      },
      "execution_count": null,
      "outputs": [
        {
          "output_type": "display_data",
          "data": {
            "text/plain": [
              "<Figure size 720x288 with 1 Axes>"
            ],
            "image/png": "[encoded data removed]"
          },
          "metadata": {
            "needs_background": "light"
          }
        }
      ]
    },
    {
      "cell_type": "code",
      "source": [
        "event_names = train_df['event_name'].value_counts()\n",
        "names = train_df['name'].value_counts()\n",
        "\n",
        "print(\"Number of event names:\", len(event_names))\n",
        "print(\"Number of names:\", len(names))\n",
        "\n",
        "plt.figure(figsize=(10, 4))\n",
        "\n",
        "plt.subplot(1, 2, 1)\n",
        "plt.bar(event_names.index, event_names.values, color='orange')\n",
        "plt.ylabel(\"Occurence counts\", fontsize=12)\n",
        "plt.title(\"Frequency of the 'event names'\", fontsize=16)\n",
        "plt.xticks(rotation=70)\n",
        "\n",
        "plt.subplot(1, 2, 2)\n",
        "plt.bar(names.index, names.values, color='brown')\n",
        "plt.title(\"Frequency of the 'names'\", fontsize=16)\n",
        "plt.xticks(rotation=70)"
      ],
      "metadata": {
        "colab": {
          "base_uri": "https://localhost:8080/",
          "height": 522
        },
        "id": "PqWHeR-bpxXk",
        "outputId": "e60bcb6c-733e-40ab-959c-018c2cf2cf58"
      },
      "execution_count": null,
      "outputs": [
        {
          "output_type": "stream",
          "name": "stdout",
          "text": [
            "Number of event names: 11\n",
            "Number of names: 6\n"
          ]
        },
        {
          "output_type": "execute_result",
          "data": {
            "text/plain": [
              "([0, 1, 2, 3, 4, 5],\n",
              " [Text(0, 0, 'basic'),\n",
              "  Text(1, 0, 'undefined'),\n",
              "  Text(2, 0, 'close'),\n",
              "  Text(3, 0, 'open'),\n",
              "  Text(4, 0, 'prev'),\n",
              "  Text(5, 0, 'next')])"
            ]
          },
          "metadata": {},
          "execution_count": 40
        },
        {
          "output_type": "display_data",
          "data": {
            "text/plain": [
              "<Figure size 720x288 with 2 Axes>"
            ],
            "image/png": "[encoded data removed]"
          },
          "metadata": {
            "needs_background": "light"
          }
        }
      ]
    },
    {
      "cell_type": "code",
      "source": [
        "plt.tight_layout()\n",
        "plt.show()\n",
        "\n",
        "# Pivot table\n",
        "pivot_table = train_df.pivot_table(index='event_name', columns='name', aggfunc='size')\n",
        "pivot_table = pivot_table.fillna(0).astype(int)\n",
        "plt.figure(figsize=(12, 4))\n",
        "sns.heatmap(pivot_table, annot=True, fmt='d', cmap='Greens')\n",
        "plt.title(\"Number of occurrences of 'event_name' and 'name'\", fontsize=16)\n",
        "plt.show()"
      ],
      "metadata": {
        "colab": {
          "base_uri": "https://localhost:8080/",
          "height": 315
        },
        "id": "_cTFH_AN4Lye",
        "outputId": "2d419ff1-ef0f-4968-866d-68157257febc"
      },
      "execution_count": null,
      "outputs": [
        {
          "output_type": "display_data",
          "data": {
            "text/plain": [
              "<Figure size 432x288 with 0 Axes>"
            ]
          },
          "metadata": {}
        },
        {
          "output_type": "display_data",
          "data": {
            "text/plain": [
              "<Figure size 864x288 with 2 Axes>"
            ],
            "image/png": "[encoded data removed]"
          },
          "metadata": {
            "needs_background": "light"
          }
        }
      ]
    },
    {
      "cell_type": "code",
      "source": [
        "grouped_df = train_df.groupby(['session_id', 'level'])\\\n",
        "    ['index'].count().reset_index()\n",
        "grouped_df.columns = ['session_id', 'level', 'index_count']\n",
        "mean_counts = grouped_df.groupby('level').mean().drop('session_id', axis=1)\n",
        "mean_counts\n",
        "\n",
        "xrange = range(0, 23)\n",
        "plt.figure(figsize=(10, 4))\n",
        "plt.plot(mean_counts)\n",
        "plt.scatter(xrange, mean_counts, color='black')\n",
        "plt.title(\"Average number of events per question level\", fontsize=16)\n",
        "plt.xlabel(\"Average count of events\", fontsize=12)\n",
        "plt.ylabel(\"Level\", fontsize=12)\n",
        "plt.xticks(xrange)\n",
        "plt.show()"
      ],
      "metadata": {
        "colab": {
          "base_uri": "https://localhost:8080/",
          "height": 300
        },
        "id": "7W6uANjbqYbT",
        "outputId": "da275861-dffa-49db-d566-c544173bec74"
      },
      "execution_count": null,
      "outputs": [
        {
          "output_type": "display_data",
          "data": {
            "text/plain": [
              "<Figure size 720x288 with 1 Axes>"
            ],
            "image/png": "[encoded data removed]"
          },
          "metadata": {
            "needs_background": "light"
          }
        }
      ]
    },
    {
      "cell_type": "code",
      "source": [
        "train_page_number_counts = train_df['page'].value_counts().sort_index()\n",
        "test_page_number_counts = test_df['page'].value_counts().sort_index()\n",
        "plt.figure(figsize=(10, 2))\n",
        "\n",
        "plt.subplot(1, 2, 1)\n",
        "plt.bar(range(0, 7), train_page_number_counts, color='blue')\n",
        "plt.xlabel(\"Page number\", fontsize=12)\n",
        "plt.ylabel(\"Count\", fontsize=12)\n",
        "plt.title(\"TRAIN SET\",\n",
        "          fontsize=16)\n",
        "\n",
        "plt.subplot(1, 2, 2)\n",
        "plt.bar(range(0, 7), test_page_number_counts, color='blue')\n",
        "plt.xlabel(\"Page number\", fontsize=12)\n",
        "plt.title(\"TEST SET\",\n",
        "          fontsize=16)\n",
        "\n",
        "plt.show()"
      ],
      "metadata": {
        "colab": {
          "base_uri": "https://localhost:8080/",
          "height": 192
        },
        "id": "WGzZUe6wq1-9",
        "outputId": "39ce9035-edc3-40ec-d8d1-af772f1b51a4"
      },
      "execution_count": null,
      "outputs": [
        {
          "output_type": "display_data",
          "data": {
            "text/plain": [
              "<Figure size 720x144 with 2 Axes>"
            ],
            "image/png": "[encoded data removed]"
          },
          "metadata": {
            "needs_background": "light"
          }
        }
      ]
    },
    {
      "cell_type": "code",
      "source": [
        "train_hover = train_df['hover_duration'].dropna() / 1000\n",
        "test_hover = test_df['hover_duration'].dropna() / 1000\n",
        "xrange = range(0, 100, 10)\n",
        "train_percentiles , test_percentiles = [], []\n",
        "for q in xrange:\n",
        "    train_perc = np.percentile(train_hover, q)\n",
        "    test_perc = np.percentile(test_hover, q)\n",
        "    train_percentiles.append(train_perc)\n",
        "    test_percentiles.append(test_perc)\n",
        "    \n",
        "plt.figure(figsize=(12, 4))\n",
        "plt.subplot(1, 2, 1)\n",
        "plt.plot(xrange, train_percentiles)\n",
        "plt.axhline(train_hover.median(), color='red', ls='--')\n",
        "plt.axhline(train_hover.mean(), color='orange', ls='--')\n",
        "plt.xticks(xrange)\n",
        "plt.yticks(range(0, 5))\n",
        "plt.legend(['Nb of events', 'Median', 'Mean'])\n",
        "plt.xlabel(\"Percentile\", fontsize=12)\n",
        "plt.ylabel(\"Hover duration in seconds\", fontsize=12)\n",
        "plt.title(\"TRAIN SET\", fontsize=16)\n",
        "plt.subplot(1, 2, 2)\n",
        "plt.plot(xrange, test_percentiles)\n",
        "plt.axhline(test_hover.median(), color='red', ls='--')\n",
        "plt.axhline(test_hover.mean(), color='orange', ls='--')\n",
        "plt.xticks(xrange)\n",
        "plt.xlabel(\"Percentile\", fontsize=12)\n",
        "plt.title(\"TEST SET\", fontsize=16)\n",
        "plt.show()"
      ],
      "metadata": {
        "colab": {
          "base_uri": "https://localhost:8080/",
          "height": 300
        },
        "id": "9DkPNdwgq-gV",
        "outputId": "a8f012aa-2976-4778-d245-2ae40caaf298"
      },
      "execution_count": null,
      "outputs": [
        {
          "output_type": "display_data",
          "data": {
            "text/plain": [
              "<Figure size 864x288 with 2 Axes>"
            ],
            "image/png": "[encoded data removed]"
          },
          "metadata": {
            "needs_background": "light"
          }
        }
      ]
    },
    {
      "cell_type": "code",
      "source": [
        "train_texts = train_df['text'].dropna().value_counts()\n",
        "test_texts = test_df['text'].dropna().value_counts()\n",
        "print(\"TRAIN | nb of unique texts:\", len(train_texts))\n",
        "print('-' * 60)\n",
        "print(train_texts, '\\n')\n",
        "print(\"TEST | nb of unique texts:\", len(test_texts))\n",
        "print('-' * 60)\n",
        "print(test_texts, '\\n')"
      ],
      "metadata": {
        "colab": {
          "base_uri": "https://localhost:8080/"
        },
        "id": "lRVa6U3mrOEM",
        "outputId": "c6771add-772b-4b9e-f112-52b83746c476"
      },
      "execution_count": null,
      "outputs": [
        {
          "output_type": "stream",
          "name": "stdout",
          "text": [
            "TRAIN | nb of unique texts: 532\n",
            "------------------------------------------------------------\n",
            "undefined                                                   258\n",
            "Hey!                                                         31\n",
            "I should go to the Capitol and tell Mrs. M!                  29\n",
            "This is perfect for the exhibit.                             28\n",
            "Look at all those activists!                                 28\n",
            "                                                           ... \n",
            "Hi, Mrs. M.                                                   1\n",
            "Head back to the museum. Your gramps is waiting for you.      1\n",
            "You're still here? I'm trying to work!                        1\n",
            "Run along to the university.                                  1\n",
            "What are you still doing here,  Jolie?                        1\n",
            "Name: text, Length: 532, dtype: int64 \n",
            "\n",
            "TEST | nb of unique texts: 495\n",
            "------------------------------------------------------------\n",
            "undefined                                     27\n",
            "You can talk to a textile expert there.        7\n",
            "Hey!                                           6\n",
            "Can you help me tidy up?                       6\n",
            "Poor Gramps! I should make sure he's okay.     5\n",
            "                                              ..\n",
            "Cranes don't eat donuts!                       1\n",
            "Besides, you just ate my last snack.           1\n",
            "You're right, Gramps. Let's investigate!       1\n",
            "Then we need evidence.                         1\n",
            "We just have to keep our eyes open!            1\n",
            "Name: text, Length: 495, dtype: int64 \n",
            "\n"
          ]
        }
      ]
    },
    {
      "cell_type": "code",
      "source": [
        "train_fqids = train_df['fqid'].value_counts()\n",
        "train_room_fqids = train_df['room_fqid'].value_counts()\n",
        "train_text_fqids = train_df['text_fqid'].value_counts()\n",
        "test_fqids = test_df['fqid'].value_counts()\n",
        "test_room_fqids = test_df['room_fqid'].value_counts()\n",
        "test_text_fqids = test_df['text_fqid'].value_counts()\n",
        "train_fqid_bundle = [train_fqids, train_room_fqids, train_text_fqids]\n",
        "test_fqid_bundle = [test_fqids, test_room_fqids, test_text_fqids]\n",
        "fqid_labels = [\"fqid\", \"room_fqid\", \"text_fqid\"]"
      ],
      "metadata": {
        "id": "hhgN7NLlrSms"
      },
      "execution_count": null,
      "outputs": []
    },
    {
      "cell_type": "code",
      "source": [
        "def print_fqids(set_name, bundle):\n",
        "    for label, value in zip(fqid_labels, bundle):\n",
        "        print('-' * 60)\n",
        "        print(set_name, label)\n",
        "        print('-' * 60)\n",
        "        print(value)  \n",
        "print_fqids('TRAIN', train_fqid_bundle)\n",
        "print_fqids('TEST', test_fqid_bundle)\n"
      ],
      "metadata": {
        "colab": {
          "base_uri": "https://localhost:8080/"
        },
        "id": "s2kQVHXh3FZk",
        "outputId": "fd447ff8-ee24-4beb-d356-b903a8f922fa"
      },
      "execution_count": null,
      "outputs": [
        {
          "output_type": "stream",
          "name": "stdout",
          "text": [
            "------------------------------------------------------------\n",
            "TRAIN fqid\n",
            "------------------------------------------------------------\n",
            "worker                     1098\n",
            "gramps                      719\n",
            "archivist                   665\n",
            "toentry                     481\n",
            "wells                       451\n",
            "                           ... \n",
            "block_tocollection            4\n",
            "block_0                       4\n",
            "reader_flag.paper1.prev       4\n",
            "doorblock                     4\n",
            "reader.paper0.prev            3\n",
            "Name: fqid, Length: 119, dtype: int64\n",
            "------------------------------------------------------------\n",
            "TRAIN room_fqid\n",
            "------------------------------------------------------------\n",
            "tunic.historicalsociety.entry              2328\n",
            "tunic.wildlife.center                      1740\n",
            "tunic.historicalsociety.cage               1370\n",
            "tunic.library.frontdesk                    1306\n",
            "tunic.historicalsociety.stacks             1122\n",
            "tunic.historicalsociety.frontdesk          1106\n",
            "tunic.historicalsociety.closet_dirty       1061\n",
            "tunic.humanecology.frontdesk                865\n",
            "tunic.historicalsociety.basement            750\n",
            "tunic.kohlcenter.halloffame                 745\n",
            "tunic.drycleaner.frontdesk                  599\n",
            "tunic.historicalsociety.collection          596\n",
            "tunic.library.microfiche                    593\n",
            "tunic.historicalsociety.closet              562\n",
            "tunic.flaghouse.entry                       508\n",
            "tunic.capitol_2.hall                        333\n",
            "tunic.capitol_1.hall                        316\n",
            "tunic.historicalsociety.collection_flag     310\n",
            "tunic.capitol_0.hall                        173\n",
            "Name: room_fqid, dtype: int64\n",
            "------------------------------------------------------------\n",
            "TRAIN text_fqid\n",
            "------------------------------------------------------------\n",
            "tunic.historicalsociety.cage.confrontation                     367\n",
            "tunic.wildlife.center.crane_ranger.crane                       308\n",
            "tunic.historicalsociety.entry.groupconvo                       296\n",
            "tunic.historicalsociety.frontdesk.archivist.newspaper          272\n",
            "tunic.wildlife.center.wells.nodeer                             249\n",
            "                                                              ... \n",
            "tunic.capitol_1.hall.chap2_finale_c                              1\n",
            "tunic.capitol_1.hall.boss.writeitup                              1\n",
            "tunic.capitol_2.hall.chap4_finale_c                              1\n",
            "tunic.flaghouse.entry.flag_girl.hello_recap                      1\n",
            "tunic.historicalsociety.frontdesk.archivist.newspaper_recap      1\n",
            "Name: text_fqid, Length: 105, dtype: int64\n",
            "------------------------------------------------------------\n",
            "TEST fqid\n",
            "------------------------------------------------------------\n",
            "worker                       214\n",
            "archivist                    148\n",
            "gramps                       144\n",
            "wells                        102\n",
            "toentry                       94\n",
            "                            ... \n",
            "retirement_letter              2\n",
            "tocloset                       2\n",
            "journals_flag.pic_1.bingo      2\n",
            "journals_flag.pic_2.bingo      2\n",
            "journals_flag.pic_2.next       1\n",
            "Name: fqid, Length: 112, dtype: int64\n",
            "------------------------------------------------------------\n",
            "TEST room_fqid\n",
            "------------------------------------------------------------\n",
            "tunic.historicalsociety.entry              470\n",
            "tunic.wildlife.center                      413\n",
            "tunic.library.frontdesk                    355\n",
            "tunic.humanecology.frontdesk               312\n",
            "tunic.historicalsociety.frontdesk          276\n",
            "tunic.historicalsociety.stacks             262\n",
            "tunic.historicalsociety.cage               247\n",
            "tunic.historicalsociety.closet_dirty       206\n",
            "tunic.library.microfiche                   204\n",
            "tunic.kohlcenter.halloffame                191\n",
            "tunic.historicalsociety.collection         147\n",
            "tunic.drycleaner.frontdesk                 144\n",
            "tunic.historicalsociety.basement           139\n",
            "tunic.flaghouse.entry                       92\n",
            "tunic.historicalsociety.closet              81\n",
            "tunic.capitol_1.hall                        64\n",
            "tunic.capitol_0.hall                        56\n",
            "tunic.historicalsociety.collection_flag     51\n",
            "tunic.capitol_2.hall                        18\n",
            "Name: room_fqid, dtype: int64\n",
            "------------------------------------------------------------\n",
            "TEST text_fqid\n",
            "------------------------------------------------------------\n",
            "tunic.historicalsociety.cage.confrontation                  75\n",
            "tunic.historicalsociety.frontdesk.archivist.newspaper       54\n",
            "tunic.wildlife.center.crane_ranger.crane                    51\n",
            "tunic.historicalsociety.entry.groupconvo                    51\n",
            "tunic.wildlife.center.wells.nodeer                          49\n",
            "                                                            ..\n",
            "tunic.flaghouse.entry.flag_girl.hello_recap                  1\n",
            "tunic.historicalsociety.closet.teddy.intro_0_cs_5            1\n",
            "tunic.historicalsociety.closet_dirty.gramps.nothing          1\n",
            "tunic.historicalsociety.frontdesk.archivist.need_glass_0     1\n",
            "tunic.historicalsociety.frontdesk.block_magnify              1\n",
            "Name: text_fqid, Length: 91, dtype: int64\n"
          ]
        }
      ]
    },
    {
      "cell_type": "code",
      "source": [
        "data = {\"Nb unique values\": fqid_labels,\n",
        "        \"TRAIN\": [len(x) for x in train_fqid_bundle],\n",
        "        \"TEST\": [len(x) for x in test_fqid_bundle]}\n",
        "df = pd.DataFrame(data).set_index('Nb unique values')\n",
        "df"
      ],
      "metadata": {
        "colab": {
          "base_uri": "https://localhost:8080/",
          "height": 175
        },
        "id": "5KI9badN3FKC",
        "outputId": "b2d047f8-1478-44e6-a74e-6fdb9a9c3599"
      },
      "execution_count": null,
      "outputs": [
        {
          "output_type": "execute_result",
          "data": {
            "text/plain": [
              "                  TRAIN  TEST\n",
              "Nb unique values             \n",
              "fqid                119   112\n",
              "room_fqid            19    19\n",
              "text_fqid           105    91"
            ],
            "text/html": [
              "\n",
              "  <div id=\"df-0669b0aa-6a4c-40f2-bb51-39366c778b52\">\n",
              "    <div class=\"colab-df-container\">\n",
              "      <div>\n",
              "<style scoped>\n",
              "    .dataframe tbody tr th:only-of-type {\n",
              "        vertical-align: middle;\n",
              "    }\n",
              "\n",
              "    .dataframe tbody tr th {\n",
              "        vertical-align: top;\n",
              "    }\n",
              "\n",
              "    .dataframe thead th {\n",
              "        text-align: right;\n",
              "    }\n",
              "</style>\n",
              "<table border=\"1\" class=\"dataframe\">\n",
              "  <thead>\n",
              "    <tr style=\"text-align: right;\">\n",
              "      <th></th>\n",
              "      <th>TRAIN</th>\n",
              "      <th>TEST</th>\n",
              "    </tr>\n",
              "    <tr>\n",
              "      <th>Nb unique values</th>\n",
              "      <th></th>\n",
              "      <th></th>\n",
              "    </tr>\n",
              "  </thead>\n",
              "  <tbody>\n",
              "    <tr>\n",
              "      <th>fqid</th>\n",
              "      <td>119</td>\n",
              "      <td>112</td>\n",
              "    </tr>\n",
              "    <tr>\n",
              "      <th>room_fqid</th>\n",
              "      <td>19</td>\n",
              "      <td>19</td>\n",
              "    </tr>\n",
              "    <tr>\n",
              "      <th>text_fqid</th>\n",
              "      <td>105</td>\n",
              "      <td>91</td>\n",
              "    </tr>\n",
              "  </tbody>\n",
              "</table>\n",
              "</div>\n",
              "      <button class=\"colab-df-convert\" onclick=\"convertToInteractive('df-0669b0aa-6a4c-40f2-bb51-39366c778b52')\"\n",
              "              title=\"Convert this dataframe to an interactive table.\"\n",
              "              style=\"display:none;\">\n",
              "        \n",
              "  <svg xmlns=\"http://www.w3.org/2000/svg\" height=\"24px\"viewBox=\"0 0 24 24\"\n",
              "       width=\"24px\">\n",
              "    <path d=\"M0 0h24v24H0V0z\" fill=\"none\"/>\n",
              "    <path d=\"M18.56 5.44l.94 2.06.94-2.06 2.06-.94-2.06-.94-.94-2.06-.94 2.06-2.06.94zm-11 1L8.5 8.5l.94-2.06 2.06-.94-2.06-.94L8.5 2.5l-.94 2.06-2.06.94zm10 10l.94 2.06.94-2.06 2.06-.94-2.06-.94-.94-2.06-.94 2.06-2.06.94z\"/><path d=\"M17.41 7.96l-1.37-1.37c-.4-.4-.92-.59-1.43-.59-.52 0-1.04.2-1.43.59L10.3 9.45l-7.72 7.72c-.78.78-.78 2.05 0 2.83L4 21.41c.39.39.9.59 1.41.59.51 0 1.02-.2 1.41-.59l7.78-7.78 2.81-2.81c.8-.78.8-2.07 0-2.86zM5.41 20L4 18.59l7.72-7.72 1.47 1.35L5.41 20z\"/>\n",
              "  </svg>\n",
              "      </button>\n",
              "      \n",
              "  <style>\n",
              "    .colab-df-container {\n",
              "      display:flex;\n",
              "      flex-wrap:wrap;\n",
              "      gap: 12px;\n",
              "    }\n",
              "\n",
              "    .colab-df-convert {\n",
              "      background-color: #E8F0FE;\n",
              "      border: none;\n",
              "      border-radius: 50%;\n",
              "      cursor: pointer;\n",
              "      display: none;\n",
              "      fill: #1967D2;\n",
              "      height: 32px;\n",
              "      padding: 0 0 0 0;\n",
              "      width: 32px;\n",
              "    }\n",
              "\n",
              "    .colab-df-convert:hover {\n",
              "      background-color: #E2EBFA;\n",
              "      box-shadow: 0px 1px 2px rgba(60, 64, 67, 0.3), 0px 1px 3px 1px rgba(60, 64, 67, 0.15);\n",
              "      fill: #174EA6;\n",
              "    }\n",
              "\n",
              "    [theme=dark] .colab-df-convert {\n",
              "      background-color: #3B4455;\n",
              "      fill: #D2E3FC;\n",
              "    }\n",
              "\n",
              "    [theme=dark] .colab-df-convert:hover {\n",
              "      background-color: #434B5C;\n",
              "      box-shadow: 0px 1px 3px 1px rgba(0, 0, 0, 0.15);\n",
              "      filter: drop-shadow(0px 1px 2px rgba(0, 0, 0, 0.3));\n",
              "      fill: #FFFFFF;\n",
              "    }\n",
              "  </style>\n",
              "\n",
              "      <script>\n",
              "        const buttonEl =\n",
              "          document.querySelector('#df-0669b0aa-6a4c-40f2-bb51-39366c778b52 button.colab-df-convert');\n",
              "        buttonEl.style.display =\n",
              "          google.colab.kernel.accessAllowed ? 'block' : 'none';\n",
              "\n",
              "        async function convertToInteractive(key) {\n",
              "          const element = document.querySelector('#df-0669b0aa-6a4c-40f2-bb51-39366c778b52');\n",
              "          const dataTable =\n",
              "            await google.colab.kernel.invokeFunction('convertToInteractive',\n",
              "                                                     [key], {});\n",
              "          if (!dataTable) return;\n",
              "\n",
              "          const docLinkHtml = 'Like what you see? Visit the ' +\n",
              "            '<a target=\"_blank\" href=https://colab.research.google.com/notebooks/data_table.ipynb>data table notebook</a>'\n",
              "            + ' to learn more about interactive tables.';\n",
              "          element.innerHTML = '';\n",
              "          dataTable['output_type'] = 'display_data';\n",
              "          await google.colab.output.renderOutput(dataTable, element);\n",
              "          const docLink = document.createElement('div');\n",
              "          docLink.innerHTML = docLinkHtml;\n",
              "          element.appendChild(docLink);\n",
              "        }\n",
              "      </script>\n",
              "    </div>\n",
              "  </div>\n",
              "  "
            ]
          },
          "metadata": {},
          "execution_count": 38
        }
      ]
    },
    {
      "cell_type": "code",
      "source": [],
      "metadata": {
        "id": "1AM5FZFo5t08"
      },
      "execution_count": null,
      "outputs": []
    },
    {
      "cell_type": "code",
      "source": [
        "labels_df['question'] = labels_df['session_id'].apply(lambda x: int(x.split('_')[1][1:]))\n",
        "correct_ratios = []\n",
        "for q in range(1, 19):\n",
        "    tmp = labels_df[labels_df['question'] == q]['correct']\n",
        "    ratio = tmp.sum() / len(tmp) \n",
        "    correct_ratios.append(ratio)\n",
        "xrange = range(1, 19)\n",
        "mean = np.mean(correct_ratios)"
      ],
      "metadata": {
        "id": "s4btk_0yrVZo"
      },
      "execution_count": null,
      "outputs": []
    },
    {
      "cell_type": "code",
      "source": [
        "plt.figure(figsize=(8, 4))\n",
        "plt.bar(x=xrange, height=correct_ratios, color='purple')\n",
        "plt.axhline(mean, color='red', ls='--', lw=3)\n",
        "plt.xticks(xrange)\n",
        "plt.legend([f'Mean: {mean:.3f}'])\n",
        "plt.title(\"Correct answers per question\")\n",
        "plt.xlabel(\"Question number\")\n",
        "plt.ylabel(\"Ratio\")\n",
        "plt.show()"
      ],
      "metadata": {
        "colab": {
          "base_uri": "https://localhost:8080/",
          "height": 295
        },
        "id": "0S6xVAm1uMpx",
        "outputId": "70eed11e-203e-433c-8ac9-a976af675bdc"
      },
      "execution_count": null,
      "outputs": [
        {
          "output_type": "display_data",
          "data": {
            "text/plain": [
              "<Figure size 576x288 with 1 Axes>"
            ],
            "image/png": "[encoded data removed]"
          },
          "metadata": {
            "needs_background": "light"
          }
        }
      ]
    },
    {
      "cell_type": "code",
      "source": [
        "classes_count = labels_df['correct'].value_counts()\n",
        "print(\"Classes count:\\n\", classes_count, \"\\n\")\n",
        "print(\"Ratio:\\n\", classes_count / len(labels_df))\n",
        "labels_df"
      ],
      "metadata": {
        "colab": {
          "base_uri": "https://localhost:8080/",
          "height": 588
        },
        "id": "hfcOJSJVrbzQ",
        "outputId": "99c80e97-a093-4366-e5bb-107861c5bfdd"
      },
      "execution_count": null,
      "outputs": [
        {
          "output_type": "stream",
          "name": "stdout",
          "text": [
            "Classes count:\n",
            " 1    299271\n",
            "0    124845\n",
            "Name: correct, dtype: int64 \n",
            "\n",
            "Ratio:\n",
            " 1    0.705635\n",
            "0    0.294365\n",
            "Name: correct, dtype: float64\n"
          ]
        },
        {
          "output_type": "execute_result",
          "data": {
            "text/plain": [
              "                   session_id  correct\n",
              "0        20090312431273200_q1        1\n",
              "1        20090312433251036_q1        0\n",
              "2        20090312455206810_q1        1\n",
              "3        20090313091715820_q1        0\n",
              "4        20090313571836404_q1        1\n",
              "...                       ...      ...\n",
              "424111  22100215342220508_q18        1\n",
              "424112  22100215460321130_q18        1\n",
              "424113  22100217104993650_q18        1\n",
              "424114  22100219442786200_q18        1\n",
              "424115  22100221145014656_q18        1\n",
              "\n",
              "[424116 rows x 2 columns]"
            ],
            "text/html": [
              "\n",
              "  <div id=\"df-7423e89e-81d5-43b2-bbbc-78d119961598\">\n",
              "    <div class=\"colab-df-container\">\n",
              "      <div>\n",
              "<style scoped>\n",
              "    .dataframe tbody tr th:only-of-type {\n",
              "        vertical-align: middle;\n",
              "    }\n",
              "\n",
              "    .dataframe tbody tr th {\n",
              "        vertical-align: top;\n",
              "    }\n",
              "\n",
              "    .dataframe thead th {\n",
              "        text-align: right;\n",
              "    }\n",
              "</style>\n",
              "<table border=\"1\" class=\"dataframe\">\n",
              "  <thead>\n",
              "    <tr style=\"text-align: right;\">\n",
              "      <th></th>\n",
              "      <th>session_id</th>\n",
              "      <th>correct</th>\n",
              "    </tr>\n",
              "  </thead>\n",
              "  <tbody>\n",
              "    <tr>\n",
              "      <th>0</th>\n",
              "      <td>20090312431273200_q1</td>\n",
              "      <td>1</td>\n",
              "    </tr>\n",
              "    <tr>\n",
              "      <th>1</th>\n",
              "      <td>20090312433251036_q1</td>\n",
              "      <td>0</td>\n",
              "    </tr>\n",
              "    <tr>\n",
              "      <th>2</th>\n",
              "      <td>20090312455206810_q1</td>\n",
              "      <td>1</td>\n",
              "    </tr>\n",
              "    <tr>\n",
              "      <th>3</th>\n",
              "      <td>20090313091715820_q1</td>\n",
              "      <td>0</td>\n",
              "    </tr>\n",
              "    <tr>\n",
              "      <th>4</th>\n",
              "      <td>20090313571836404_q1</td>\n",
              "      <td>1</td>\n",
              "    </tr>\n",
              "    <tr>\n",
              "      <th>...</th>\n",
              "      <td>...</td>\n",
              "      <td>...</td>\n",
              "    </tr>\n",
              "    <tr>\n",
              "      <th>424111</th>\n",
              "      <td>22100215342220508_q18</td>\n",
              "      <td>1</td>\n",
              "    </tr>\n",
              "    <tr>\n",
              "      <th>424112</th>\n",
              "      <td>22100215460321130_q18</td>\n",
              "      <td>1</td>\n",
              "    </tr>\n",
              "    <tr>\n",
              "      <th>424113</th>\n",
              "      <td>22100217104993650_q18</td>\n",
              "      <td>1</td>\n",
              "    </tr>\n",
              "    <tr>\n",
              "      <th>424114</th>\n",
              "      <td>22100219442786200_q18</td>\n",
              "      <td>1</td>\n",
              "    </tr>\n",
              "    <tr>\n",
              "      <th>424115</th>\n",
              "      <td>22100221145014656_q18</td>\n",
              "      <td>1</td>\n",
              "    </tr>\n",
              "  </tbody>\n",
              "</table>\n",
              "<p>424116 rows × 2 columns</p>\n",
              "</div>\n",
              "      <button class=\"colab-df-convert\" onclick=\"convertToInteractive('df-7423e89e-81d5-43b2-bbbc-78d119961598')\"\n",
              "              title=\"Convert this dataframe to an interactive table.\"\n",
              "              style=\"display:none;\">\n",
              "        \n",
              "  <svg xmlns=\"http://www.w3.org/2000/svg\" height=\"24px\"viewBox=\"0 0 24 24\"\n",
              "       width=\"24px\">\n",
              "    <path d=\"M0 0h24v24H0V0z\" fill=\"none\"/>\n",
              "    <path d=\"M18.56 5.44l.94 2.06.94-2.06 2.06-.94-2.06-.94-.94-2.06-.94 2.06-2.06.94zm-11 1L8.5 8.5l.94-2.06 2.06-.94-2.06-.94L8.5 2.5l-.94 2.06-2.06.94zm10 10l.94 2.06.94-2.06 2.06-.94-2.06-.94-.94-2.06-.94 2.06-2.06.94z\"/><path d=\"M17.41 7.96l-1.37-1.37c-.4-.4-.92-.59-1.43-.59-.52 0-1.04.2-1.43.59L10.3 9.45l-7.72 7.72c-.78.78-.78 2.05 0 2.83L4 21.41c.39.39.9.59 1.41.59.51 0 1.02-.2 1.41-.59l7.78-7.78 2.81-2.81c.8-.78.8-2.07 0-2.86zM5.41 20L4 18.59l7.72-7.72 1.47 1.35L5.41 20z\"/>\n",
              "  </svg>\n",
              "      </button>\n",
              "      \n",
              "  <style>\n",
              "    .colab-df-container {\n",
              "      display:flex;\n",
              "      flex-wrap:wrap;\n",
              "      gap: 12px;\n",
              "    }\n",
              "\n",
              "    .colab-df-convert {\n",
              "      background-color: #E8F0FE;\n",
              "      border: none;\n",
              "      border-radius: 50%;\n",
              "      cursor: pointer;\n",
              "      display: none;\n",
              "      fill: #1967D2;\n",
              "      height: 32px;\n",
              "      padding: 0 0 0 0;\n",
              "      width: 32px;\n",
              "    }\n",
              "\n",
              "    .colab-df-convert:hover {\n",
              "      background-color: #E2EBFA;\n",
              "      box-shadow: 0px 1px 2px rgba(60, 64, 67, 0.3), 0px 1px 3px 1px rgba(60, 64, 67, 0.15);\n",
              "      fill: #174EA6;\n",
              "    }\n",
              "\n",
              "    [theme=dark] .colab-df-convert {\n",
              "      background-color: #3B4455;\n",
              "      fill: #D2E3FC;\n",
              "    }\n",
              "\n",
              "    [theme=dark] .colab-df-convert:hover {\n",
              "      background-color: #434B5C;\n",
              "      box-shadow: 0px 1px 3px 1px rgba(0, 0, 0, 0.15);\n",
              "      filter: drop-shadow(0px 1px 2px rgba(0, 0, 0, 0.3));\n",
              "      fill: #FFFFFF;\n",
              "    }\n",
              "  </style>\n",
              "\n",
              "      <script>\n",
              "        const buttonEl =\n",
              "          document.querySelector('#df-7423e89e-81d5-43b2-bbbc-78d119961598 button.colab-df-convert');\n",
              "        buttonEl.style.display =\n",
              "          google.colab.kernel.accessAllowed ? 'block' : 'none';\n",
              "\n",
              "        async function convertToInteractive(key) {\n",
              "          const element = document.querySelector('#df-7423e89e-81d5-43b2-bbbc-78d119961598');\n",
              "          const dataTable =\n",
              "            await google.colab.kernel.invokeFunction('convertToInteractive',\n",
              "                                                     [key], {});\n",
              "          if (!dataTable) return;\n",
              "\n",
              "          const docLinkHtml = 'Like what you see? Visit the ' +\n",
              "            '<a target=\"_blank\" href=https://colab.research.google.com/notebooks/data_table.ipynb>data table notebook</a>'\n",
              "            + ' to learn more about interactive tables.';\n",
              "          element.innerHTML = '';\n",
              "          dataTable['output_type'] = 'display_data';\n",
              "          await google.colab.output.renderOutput(dataTable, element);\n",
              "          const docLink = document.createElement('div');\n",
              "          docLink.innerHTML = docLinkHtml;\n",
              "          element.appendChild(docLink);\n",
              "        }\n",
              "      </script>\n",
              "    </div>\n",
              "  </div>\n",
              "  "
            ]
          },
          "metadata": {},
          "execution_count": 33
        }
      ]
    },
    {
      "cell_type": "markdown",
      "source": [
        "**Interpretation :**\n",
        "\n",
        "The following are the ***insights*** found -\n",
        "\n",
        "* It is quite a big dataframe (the train.csv file is more than 2GB large). It has more than **13** millions rows and a few features.\n",
        "* About **70%** of the answers are correct and 30% are incorrect.\n",
        "* The dataset is slightly **imbalanced**.\n",
        "* The train and test dataframes have **similar ratios** of missing values which are good news.\n",
        "* The labels only go up to level **18**, even though the questions extend up to level **22** in the training set.\n",
        "* In the training set, we can observe that the mean is significantly **higher than the median**, which is due to the presence of outliers where the user remained on hover for an extended period.\n"
      ],
      "metadata": {
        "id": "FdIWkojurlqi"
      }
    }
  ]
}